{
 "cells": [
  {
   "cell_type": "code",
   "execution_count": null,
   "metadata": {
    "execution": {
     "iopub.execute_input": "2025-05-04T23:03:22.726436Z",
     "iopub.status.busy": "2025-05-04T23:03:22.725714Z",
     "iopub.status.idle": "2025-05-04T23:03:22.730096Z",
     "shell.execute_reply": "2025-05-04T23:03:22.729289Z",
     "shell.execute_reply.started": "2025-05-04T23:03:22.726394Z"
    },
    "id": "9CdS24PG-6Ew",
    "trusted": true
   },
   "outputs": [],
   "source": [
    "# !pip install nibabel\n",
    "# !pip install torch torchvision\n",
    "# !pip install matplotlib\n",
    "# !pip install scikit-image\n",
    "# !pip install tqdm\n",
    "# !pip install kagglehub\n"
   ]
  },
  {
   "cell_type": "code",
   "execution_count": null,
   "metadata": {
    "colab": {
     "base_uri": "https://localhost:8080/"
    },
    "execution": {
     "iopub.execute_input": "2025-05-04T23:03:22.909137Z",
     "iopub.status.busy": "2025-05-04T23:03:22.908855Z",
     "iopub.status.idle": "2025-05-04T23:03:22.914797Z",
     "shell.execute_reply": "2025-05-04T23:03:22.914278Z",
     "shell.execute_reply.started": "2025-05-04T23:03:22.909117Z"
    },
    "id": "YPPQ_D85-97E",
    "outputId": "3f3d685e-4b48-4fc5-9312-cf440d8d185c",
    "trusted": true
   },
   "outputs": [],
   "source": [
    "# from google.colab import drive\n",
    "# # drive.mount('/content/drive')"
   ]
  },
  {
   "cell_type": "code",
   "execution_count": null,
   "metadata": {
    "execution": {
     "iopub.execute_input": "2025-05-04T23:03:23.580791Z",
     "iopub.status.busy": "2025-05-04T23:03:23.580071Z",
     "iopub.status.idle": "2025-05-04T23:03:23.583881Z",
     "shell.execute_reply": "2025-05-04T23:03:23.583054Z",
     "shell.execute_reply.started": "2025-05-04T23:03:23.580760Z"
    },
    "id": "JejfvPJ4EroR",
    "trusted": true
   },
   "outputs": [],
   "source": [
    "# import kagglehub\n",
    "\n",
    "# # Download latest version\n",
    "# path = kagglehub.dataset_download(\"awsaf49/brats2020-training-data\")\n",
    "\n",
    "# print(\"Path to dataset files:\", path)"
   ]
  },
  {
   "cell_type": "code",
   "execution_count": null,
   "metadata": {
    "execution": {
     "iopub.execute_input": "2025-05-04T23:03:25.264117Z",
     "iopub.status.busy": "2025-05-04T23:03:25.263843Z",
     "iopub.status.idle": "2025-05-04T23:03:25.267946Z",
     "shell.execute_reply": "2025-05-04T23:03:25.267289Z",
     "shell.execute_reply.started": "2025-05-04T23:03:25.264094Z"
    },
    "id": "hyKmRpZ0Cal4",
    "trusted": true
   },
   "outputs": [],
   "source": [
    "# import os\n",
    "# import shutil\n",
    "# from tqdm import tqdm\n",
    "\n",
    "# def copy_files_with_progress(src, dst):\n",
    "#     # Get all files to copy\n",
    "#     all_files = []\n",
    "#     for root, dirs, files in os.walk(src):\n",
    "#         for file in files:\n",
    "#             all_files.append(os.path.join(root, file))\n",
    "\n",
    "#     print(f\"Total files to copy: {len(all_files)}\")\n",
    "\n",
    "#     for file_path in tqdm(all_files, desc=\"Copying files\"):\n",
    "#         relative_path = os.path.relpath(file_path, src)\n",
    "#         dst_path = os.path.join(dst, relative_path)\n",
    "\n",
    "#         os.makedirs(os.path.dirname(dst_path), exist_ok=True)\n",
    "#         shutil.copy2(file_path, dst_path)\n",
    "\n",
    "# # Usage\n",
    "# destination_path = \"/content/drive/MyDrive/DL_Project/dataset_BRATS2020\"\n",
    "# os.makedirs(destination_path, exist_ok=True)\n",
    "\n",
    "# copy_files_with_progress(path, destination_path)\n",
    "\n",
    "# print(f\"Dataset copied to {destination_path}\")\n"
   ]
  },
  {
   "cell_type": "markdown",
   "metadata": {
    "id": "q1OwXT0gQMZ6"
   },
   "source": [
    "## VIEW SAMPLES"
   ]
  },
  {
   "cell_type": "code",
   "execution_count": null,
   "metadata": {
    "execution": {
     "iopub.execute_input": "2025-05-04T23:03:27.393781Z",
     "iopub.status.busy": "2025-05-04T23:03:27.393157Z",
     "iopub.status.idle": "2025-05-04T23:03:29.534667Z",
     "shell.execute_reply": "2025-05-04T23:03:29.534052Z",
     "shell.execute_reply.started": "2025-05-04T23:03:27.393754Z"
    },
    "trusted": true
   },
   "outputs": [],
   "source": [
    "# imports\n",
    "import os\n",
    "import random\n",
    "import h5py\n",
    "import numpy as np\n",
    "import matplotlib.pyplot as plt\n",
    "from sklearn.model_selection import train_test_split\n",
    "\n",
    "import torch\n",
    "from torch.utils.data import Dataset\n",
    "import h5py\n",
    "\n",
    "from torch.utils.data import DataLoader\n",
    "\n",
    "import torch.nn as nn\n",
    "from tqdm import tqdm"
   ]
  },
  {
   "cell_type": "code",
   "execution_count": null,
   "metadata": {
    "execution": {
     "iopub.execute_input": "2025-05-04T23:03:32.155123Z",
     "iopub.status.busy": "2025-05-04T23:03:32.154195Z",
     "iopub.status.idle": "2025-05-04T23:03:32.161319Z",
     "shell.execute_reply": "2025-05-04T23:03:32.160615Z",
     "shell.execute_reply.started": "2025-05-04T23:03:32.155096Z"
    },
    "trusted": true
   },
   "outputs": [],
   "source": [
    "def set_seed(seed):\n",
    "    random.seed(seed)\n",
    "    np.random.seed(seed)\n",
    "    torch.manual_seed(seed)\n",
    "    torch.cuda.manual_seed(seed)\n",
    "    torch.cuda.manual_seed_all(seed)  # if using multi-GPU\n",
    "\n",
    "    torch.backends.cudnn.deterministic = True\n",
    "    torch.backends.cudnn.benchmark = False\n",
    "\n",
    "set_seed(0)"
   ]
  },
  {
   "cell_type": "code",
   "execution_count": null,
   "metadata": {
    "colab": {
     "base_uri": "https://localhost:8080/",
     "height": 651
    },
    "execution": {
     "iopub.execute_input": "2025-05-04T23:03:39.456030Z",
     "iopub.status.busy": "2025-05-04T23:03:39.455445Z",
     "iopub.status.idle": "2025-05-04T23:03:40.130662Z",
     "shell.execute_reply": "2025-05-04T23:03:40.129864Z",
     "shell.execute_reply.started": "2025-05-04T23:03:39.456004Z"
    },
    "id": "RYLkjacYDhKM",
    "outputId": "c2e8f520-bd47-43a4-e86f-759258f5d18d",
    "trusted": true
   },
   "outputs": [],
   "source": [
    "# Directory containing the dataset\n",
    "dataset_dir = \"/kaggle/input/brats2020-training-data/BraTS2020_training_data/content/data\"\n",
    "\n",
    "# Get all h5 files\n",
    "h5_files = [os.path.join(dataset_dir, f) for f in os.listdir(dataset_dir) if f.endswith('.h5')]\n",
    "print(f\"Total h5 files found:\", len(h5_files))\n",
    "# Pick a random sample\n",
    "sample_file = random.choice(h5_files)\n",
    "print(\"Random sample selected:\", sample_file)\n",
    "\n",
    "# Load the sample\n",
    "with h5py.File(sample_file, \"r\") as f:\n",
    "    image = f[\"image\"][:]\n",
    "    mask = f[\"mask\"][:]\n",
    "\n",
    "# Transpose to (C, H, W)\n",
    "image = np.transpose(image, (2, 0, 1))\n",
    "mask = np.transpose(mask, (2, 0, 1))\n",
    "\n",
    "# Visualization Functions\n",
    "\n",
    "def display_image_channels(image, title='Image Modalities (T1, T1ce, T2, FLAIR)'):\n",
    "    modality_labels = ['T1', 'T1ce', 'T2', 'FLAIR']\n",
    "\n",
    "    plt.figure(figsize=(20, 5))\n",
    "\n",
    "    for idx in range(4):\n",
    "        plt.subplot(1, 4, idx + 1)\n",
    "        plt.imshow(image[idx], cmap='gray')\n",
    "        plt.title(modality_labels[idx], fontsize=14)\n",
    "        plt.axis(\"off\")\n",
    "\n",
    "    plt.suptitle(title, fontsize=20)\n",
    "    plt.show()\n",
    "\n",
    "def display_mask_channels(mask, title='Segmentation Masks (NCR/NET, ED, ET)'):\n",
    "    mask_labels = ['Necrotic/Non-Enhancing Tumor Core (NCR/NET)', 'Edema (ED)', 'Enhancing Tumor (ET)']\n",
    "    cmap = 'nipy_spectral'\n",
    "\n",
    "    plt.figure(figsize=(20, 5))\n",
    "\n",
    "    for idx in range(3):\n",
    "        plt.subplot(1, 3, idx + 1)\n",
    "        plt.imshow(mask[idx], cmap=cmap)\n",
    "        plt.title(mask_labels[idx], fontsize=14)\n",
    "        plt.axis(\"off\")\n",
    "\n",
    "    plt.suptitle(title, fontsize=20)\n",
    "    plt.show()\n",
    "\n",
    "# Call the visualizations\n",
    "\n",
    "display_image_channels(image)\n",
    "display_mask_channels(mask)\n"
   ]
  },
  {
   "cell_type": "markdown",
   "metadata": {
    "id": "YWoMZYUjQOxA"
   },
   "source": [
    "## LOAD THE DATA INTO A DATALOADER"
   ]
  },
  {
   "cell_type": "code",
   "execution_count": null,
   "metadata": {
    "colab": {
     "base_uri": "https://localhost:8080/"
    },
    "execution": {
     "iopub.execute_input": "2025-05-04T23:03:44.745027Z",
     "iopub.status.busy": "2025-05-04T23:03:44.744506Z",
     "iopub.status.idle": "2025-05-04T23:03:44.826995Z",
     "shell.execute_reply": "2025-05-04T23:03:44.826392Z",
     "shell.execute_reply.started": "2025-05-04T23:03:44.745001Z"
    },
    "id": "QleZOwwtPDnd",
    "outputId": "d2c890fd-6aca-461d-ca85-619f57c90fd0",
    "trusted": true
   },
   "outputs": [],
   "source": [
    "# Collect all h5 files\n",
    "h5_files = [os.path.join(dataset_dir, f) for f in os.listdir(dataset_dir) if f.endswith('.h5')]\n",
    "print(\"Total samples:\", len(h5_files))\n",
    "\n",
    "# Split into Train (60%) and Temp (40%)\n",
    "train_files, temp_files = train_test_split(h5_files, test_size=0.4, random_state=42)\n",
    "\n",
    "# Split Temp into Validation (20%) and Test (20%)\n",
    "val_files, test_files = train_test_split(temp_files, test_size=0.5, random_state=42)\n",
    "\n",
    "print(f\"Train: {len(train_files)} | Validation: {len(val_files)} | Test: {len(test_files)}\")\n"
   ]
  },
  {
   "cell_type": "code",
   "execution_count": null,
   "metadata": {
    "execution": {
     "iopub.execute_input": "2025-05-04T23:03:46.878925Z",
     "iopub.status.busy": "2025-05-04T23:03:46.878133Z",
     "iopub.status.idle": "2025-05-04T23:03:46.883995Z",
     "shell.execute_reply": "2025-05-04T23:03:46.883420Z",
     "shell.execute_reply.started": "2025-05-04T23:03:46.878896Z"
    },
    "id": "3j8d3YySSMaX",
    "trusted": true
   },
   "outputs": [],
   "source": [
    "class BrainTumorSegmentationDataset(Dataset):\n",
    "    def __init__(self, file_list):\n",
    "        self.file_list = file_list\n",
    "\n",
    "    def __len__(self):\n",
    "        return len(self.file_list)\n",
    "\n",
    "    def __getitem__(self, idx):\n",
    "        path = self.file_list[idx]\n",
    "\n",
    "        with h5py.File(path, \"r\") as f:\n",
    "            image = f[\"image\"][:]\n",
    "            mask = f[\"mask\"][:]\n",
    "\n",
    "        # (H, W, C) to (C, H, W)\n",
    "        image = np.transpose(image, (2, 0, 1))\n",
    "        mask = np.transpose(mask, (2, 0, 1))\n",
    "\n",
    "        # Normalize image to [0, 1]\n",
    "        image = (image - image.min()) / (image.max() - image.min() + 1e-6)\n",
    "\n",
    "        return torch.tensor(image, dtype=torch.float32), torch.tensor(mask, dtype=torch.float32)\n"
   ]
  },
  {
   "cell_type": "code",
   "execution_count": null,
   "metadata": {
    "execution": {
     "iopub.execute_input": "2025-05-04T23:03:49.069668Z",
     "iopub.status.busy": "2025-05-04T23:03:49.068933Z",
     "iopub.status.idle": "2025-05-04T23:03:49.074327Z",
     "shell.execute_reply": "2025-05-04T23:03:49.073746Z",
     "shell.execute_reply.started": "2025-05-04T23:03:49.069631Z"
    },
    "id": "2Wglb4F2SUiG",
    "trusted": true
   },
   "outputs": [],
   "source": [
    "train_dataset = BrainTumorSegmentationDataset(train_files)\n",
    "val_dataset = BrainTumorSegmentationDataset(val_files)\n",
    "test_dataset = BrainTumorSegmentationDataset(test_files)\n",
    "\n",
    "train_loader = DataLoader(train_dataset, batch_size=4, shuffle=True)\n",
    "val_loader = DataLoader(val_dataset, batch_size=4, shuffle=False)\n",
    "test_loader = DataLoader(test_dataset, batch_size=4, shuffle=False)\n"
   ]
  },
  {
   "cell_type": "markdown",
   "metadata": {
    "id": "iOCvxHVqSbJ5"
   },
   "source": [
    "## Defining the UNET model"
   ]
  },
  {
   "cell_type": "code",
   "execution_count": null,
   "metadata": {
    "execution": {
     "iopub.execute_input": "2025-05-04T23:03:51.069973Z",
     "iopub.status.busy": "2025-05-04T23:03:51.069699Z",
     "iopub.status.idle": "2025-05-04T23:03:51.083593Z",
     "shell.execute_reply": "2025-05-04T23:03:51.082873Z",
     "shell.execute_reply.started": "2025-05-04T23:03:51.069955Z"
    },
    "id": "jGkTwY2tSaCj",
    "trusted": true
   },
   "outputs": [],
   "source": [
    "\n",
    "\n",
    "class EncoderBlock(nn.Module):\n",
    "    def __init__(self, in_channels, out_channels, activation=nn.ReLU()):\n",
    "        super().__init__()\n",
    "        self.block = nn.Sequential(\n",
    "            nn.Conv2d(in_channels, out_channels, 3, padding=1),\n",
    "            activation,\n",
    "            nn.Conv2d(out_channels, out_channels, 3, padding=1),\n",
    "            activation\n",
    "        )\n",
    "\n",
    "    def forward(self, x):\n",
    "        return self.block(x)\n",
    "\n",
    "class DecoderBlock(nn.Module):\n",
    "    def __init__(self, in_channels, out_channels, activation=nn.ReLU()):\n",
    "        super().__init__()\n",
    "        self.block = nn.Sequential(\n",
    "            nn.Conv2d(in_channels, in_channels // 2, 3, padding=1),\n",
    "            activation,\n",
    "            nn.Conv2d(in_channels // 2, out_channels, 3, padding=1),\n",
    "            activation\n",
    "        )\n",
    "\n",
    "    def forward(self, x):\n",
    "        return self.block(x)\n",
    "\n",
    "class UNet(nn.Module):\n",
    "    def __init__(self, in_channels=4, out_channels=3, base_filters=32):\n",
    "        super().__init__()\n",
    "\n",
    "        self.down = nn.MaxPool2d(2)\n",
    "        self.up = nn.Upsample(scale_factor=2, mode='bilinear', align_corners=True)\n",
    "\n",
    "        self.enc1 = EncoderBlock(in_channels, base_filters)\n",
    "        self.enc2 = EncoderBlock(base_filters, base_filters * 2)\n",
    "        self.enc3 = EncoderBlock(base_filters * 2, base_filters * 4)\n",
    "        self.enc4 = EncoderBlock(base_filters * 4, base_filters * 8)\n",
    "\n",
    "        self.bottleneck = nn.Sequential(\n",
    "            nn.Conv2d(base_filters * 8, base_filters * 16, 3, padding=1),\n",
    "            nn.ReLU(),\n",
    "            nn.Conv2d(base_filters * 16, base_filters * 8, 3, padding=1),\n",
    "            nn.ReLU()\n",
    "        )\n",
    "\n",
    "        self.dec4 = DecoderBlock(base_filters * 16, base_filters * 4)\n",
    "        self.dec3 = DecoderBlock(base_filters * 8, base_filters * 2)\n",
    "        self.dec2 = DecoderBlock(base_filters * 4, base_filters)\n",
    "        self.dec1 = DecoderBlock(base_filters * 2, base_filters)\n",
    "\n",
    "        self.output = nn.Conv2d(base_filters, out_channels, 1)\n",
    "\n",
    "    def forward(self, x):\n",
    "        s1 = self.enc1(x)\n",
    "        x = self.down(s1)\n",
    "\n",
    "        s2 = self.enc2(x)\n",
    "        x = self.down(s2)\n",
    "\n",
    "        s3 = self.enc3(x)\n",
    "        x = self.down(s3)\n",
    "\n",
    "        s4 = self.enc4(x)\n",
    "        x = self.down(s4)\n",
    "\n",
    "        x = self.bottleneck(x)\n",
    "\n",
    "        x = self.up(x)\n",
    "        x = torch.cat([x, s4], dim=1)\n",
    "        x = self.dec4(x)\n",
    "\n",
    "        x = self.up(x)\n",
    "        x = torch.cat([x, s3], dim=1)\n",
    "        x = self.dec3(x)\n",
    "\n",
    "        x = self.up(x)\n",
    "        x = torch.cat([x, s2], dim=1)\n",
    "        x = self.dec2(x)\n",
    "\n",
    "        x = self.up(x)\n",
    "        x = torch.cat([x, s1], dim=1)\n",
    "        x = self.dec1(x)\n",
    "\n",
    "        return self.output(x)"
   ]
  },
  {
   "cell_type": "markdown",
   "metadata": {
    "id": "0PtVkyHHSrEP"
   },
   "source": [
    "## TRAINING"
   ]
  },
  {
   "cell_type": "code",
   "execution_count": null,
   "metadata": {
    "execution": {
     "iopub.execute_input": "2025-05-04T23:03:54.556375Z",
     "iopub.status.busy": "2025-05-04T23:03:54.555789Z",
     "iopub.status.idle": "2025-05-04T23:03:54.560820Z",
     "shell.execute_reply": "2025-05-04T23:03:54.559981Z",
     "shell.execute_reply.started": "2025-05-04T23:03:54.556350Z"
    },
    "id": "MBSLMm54VQOF",
    "trusted": true
   },
   "outputs": [],
   "source": [
    "def dice_score(preds, targets, threshold=0.5):\n",
    "    preds = torch.sigmoid(preds)\n",
    "    preds = (preds > threshold).float()\n",
    "\n",
    "    intersection = (preds * targets).sum(dim=(1,2,3))\n",
    "    union = preds.sum(dim=(1,2,3)) + targets.sum(dim=(1,2,3))\n",
    "\n",
    "    dice = (2. * intersection + 1e-8) / (union + 1e-8)\n",
    "    return dice.mean()"
   ]
  },
  {
   "cell_type": "code",
   "execution_count": null,
   "metadata": {
    "execution": {
     "iopub.execute_input": "2025-05-04T23:03:56.038341Z",
     "iopub.status.busy": "2025-05-04T23:03:56.037603Z",
     "iopub.status.idle": "2025-05-04T23:03:56.047593Z",
     "shell.execute_reply": "2025-05-04T23:03:56.046971Z",
     "shell.execute_reply.started": "2025-05-04T23:03:56.038316Z"
    },
    "id": "VetGOiEhSfpY",
    "trusted": true
   },
   "outputs": [],
   "source": [
    "def train_model(model, train_loader, val_loader, config):\n",
    "    device = config['device']\n",
    "    n_epochs = config['n_epochs']\n",
    "    lr = config['learning_rate']\n",
    "    batches_per_epoch = config['batches_per_epoch']\n",
    "    lr_decay = config['lr_decay_factor']\n",
    "\n",
    "    model.to(device)\n",
    "    optimizer = torch.optim.Adam(model.parameters(), lr=lr)\n",
    "    criterion = nn.BCEWithLogitsLoss()\n",
    "\n",
    "    train_losses, val_losses = [], []\n",
    "    train_dice_scores, val_dice_scores = [], []\n",
    "\n",
    "    print(\"Starting training...\\n\")\n",
    "\n",
    "    for epoch in range(1, n_epochs + 1):\n",
    "        current_lr = lr * (lr_decay ** (epoch - 1))\n",
    "        for param_group in optimizer.param_groups:\n",
    "            param_group['lr'] = current_lr\n",
    "\n",
    "        # --- Training ---\n",
    "        model.train()\n",
    "        train_loss = 0\n",
    "        train_dice = 0\n",
    "\n",
    "        train_loop = tqdm(train_loader, desc=f\"[Train] Epoch {epoch}\", leave=False)\n",
    "\n",
    "        for batch_idx, (inputs, targets) in enumerate(train_loop, start=1):\n",
    "            inputs, targets = inputs.to(device), targets.to(device)\n",
    "\n",
    "            outputs = model(inputs)\n",
    "            loss = criterion(outputs, targets)\n",
    "\n",
    "            optimizer.zero_grad()\n",
    "            loss.backward()\n",
    "            optimizer.step()\n",
    "\n",
    "            train_loss += loss.item()\n",
    "            train_dice += dice_score(outputs, targets).item()\n",
    "\n",
    "            train_loop.set_postfix({\"Loss\": loss.item()})\n",
    "\n",
    "            if batch_idx >= batches_per_epoch:\n",
    "                break\n",
    "\n",
    "        avg_train_loss = train_loss / batches_per_epoch\n",
    "        avg_train_dice = train_dice / batches_per_epoch\n",
    "        train_losses.append(avg_train_loss)\n",
    "        train_dice_scores.append(avg_train_dice)\n",
    "\n",
    "        # --- Validation ---\n",
    "        model.eval()\n",
    "        val_loss = 0\n",
    "        val_dice = 0\n",
    "\n",
    "        val_loop = tqdm(val_loader, desc=f\"[Val] Epoch {epoch}\", leave=False)\n",
    "\n",
    "        with torch.no_grad():\n",
    "            for batch_idx, (inputs, targets) in enumerate(val_loop, start=1):\n",
    "                inputs, targets = inputs.to(device), targets.to(device)\n",
    "\n",
    "                outputs = model(inputs)\n",
    "                loss = criterion(outputs, targets)\n",
    "\n",
    "                val_loss += loss.item()\n",
    "                val_dice += dice_score(outputs, targets).item()\n",
    "\n",
    "                val_loop.set_postfix({\"Loss\": loss.item()})\n",
    "\n",
    "                if batch_idx >= batches_per_epoch:\n",
    "                    break\n",
    "\n",
    "        avg_val_loss = val_loss / batches_per_epoch\n",
    "        avg_val_dice = val_dice / batches_per_epoch\n",
    "        val_losses.append(avg_val_loss)\n",
    "        val_dice_scores.append(avg_val_dice)\n",
    "\n",
    "        # --- Epoch Summary ---\n",
    "        print(f\"Epoch {epoch}/{n_epochs} | Train Loss: {avg_train_loss:.4f}, Dice: {avg_train_dice:.4f} | Val Loss: {avg_val_loss:.4f}, Dice: {avg_val_dice:.4f} | LR: {current_lr:.6f}\")\n",
    "\n",
    "    print(\"Training complete.\")\n",
    "    return train_losses, val_losses, train_dice_scores, val_dice_scores"
   ]
  },
  {
   "cell_type": "code",
   "execution_count": null,
   "metadata": {
    "colab": {
     "base_uri": "https://localhost:8080/",
     "height": 436
    },
    "execution": {
     "iopub.execute_input": "2025-05-04T23:05:02.463710Z",
     "iopub.status.busy": "2025-05-04T23:05:02.463410Z",
     "iopub.status.idle": "2025-05-04T23:29:08.105261Z",
     "shell.execute_reply": "2025-05-04T23:29:08.104400Z",
     "shell.execute_reply.started": "2025-05-04T23:05:02.463691Z"
    },
    "id": "7IKECvB1SkpE",
    "outputId": "f4ee4e5b-7352-4050-e28f-93a4907c2d18",
    "trusted": true
   },
   "outputs": [],
   "source": [
    "train_config = {\n",
    "    'device': 'cuda' if torch.cuda.is_available() else 'cpu',\n",
    "    'n_epochs': 10,\n",
    "    'batch_size': 32,\n",
    "    'learning_rate': 1e-3,\n",
    "    'batches_per_epoch': 100,\n",
    "    'lr_decay_factor': 1\n",
    "}\n",
    "\n",
    "model = UNet()\n",
    "train_loader = DataLoader(train_dataset, batch_size=train_config['batch_size'], shuffle=True)\n",
    "val_loader = DataLoader(val_dataset, batch_size=train_config['batch_size'], shuffle=False)\n",
    "\n",
    "train_losses, val_losses, train_dices, val_dices = train_model(model, train_loader, val_loader, train_config)"
   ]
  },
  {
   "cell_type": "code",
   "execution_count": null,
   "metadata": {
    "execution": {
     "iopub.execute_input": "2025-05-04T23:29:17.110225Z",
     "iopub.status.busy": "2025-05-04T23:29:17.109932Z",
     "iopub.status.idle": "2025-05-04T23:29:17.119196Z",
     "shell.execute_reply": "2025-05-04T23:29:17.118405Z",
     "shell.execute_reply.started": "2025-05-04T23:29:17.110201Z"
    },
    "id": "JAmCgbUEStrq",
    "trusted": true
   },
   "outputs": [],
   "source": [
    "def plot_training_curves(train_losses, val_losses, train_scores=None, val_scores=None, score_name=\"Dice Score\"):\n",
    "    \"\"\"\n",
    "    Plots training and validation loss (and optionally accuracy/Dice Score) curves.\n",
    "\n",
    "    Args:\n",
    "        train_losses (list): List of training losses per epoch.\n",
    "        val_losses (list): List of validation losses per epoch.\n",
    "        train_scores (list, optional): List of training scores per epoch.\n",
    "        val_scores (list, optional): List of validation scores per epoch.\n",
    "        score_name (str, optional): Name of the score metric. Defaults to \"Dice Score\".\n",
    "    \"\"\"\n",
    "    epochs = range(1, len(train_losses) + 1)\n",
    "    num_plots = 2 if train_scores is not None and val_scores is not None else 1\n",
    "\n",
    "    plt.figure(figsize=(10, 5))\n",
    "\n",
    "    # Plot Loss\n",
    "    plt.subplot(1, num_plots, 1)\n",
    "    plt.plot(epochs, train_losses, label=\"Train Loss\", marker='o')\n",
    "    plt.plot(epochs, val_losses, label=\"Validation Loss\", marker='o')\n",
    "    plt.xlabel(\"Epoch\")\n",
    "    plt.ylabel(\"Loss\")\n",
    "    plt.title(\"Train vs Validation Loss\")\n",
    "    plt.legend()\n",
    "    plt.grid(True)\n",
    "\n",
    "    # Plot Score (optional)\n",
    "    if train_scores is not None and val_scores is not None:\n",
    "        plt.subplot(1, num_plots, 2)\n",
    "        plt.plot(epochs, train_scores, label=f\"Train {score_name}\", marker='o')\n",
    "        plt.plot(epochs, val_scores, label=f\"Validation {score_name}\", marker='o')\n",
    "        plt.xlabel(\"Epoch\")\n",
    "        plt.ylabel(score_name)\n",
    "        plt.title(f\"Train vs Validation {score_name}\")\n",
    "        plt.legend()\n",
    "        plt.grid(True)\n",
    "\n",
    "    plt.tight_layout()\n",
    "    plt.show()\n"
   ]
  },
  {
   "cell_type": "code",
   "execution_count": null,
   "metadata": {
    "colab": {
     "base_uri": "https://localhost:8080/",
     "height": 997
    },
    "execution": {
     "iopub.execute_input": "2025-05-04T23:29:19.916631Z",
     "iopub.status.busy": "2025-05-04T23:29:19.916035Z",
     "iopub.status.idle": "2025-05-04T23:29:20.437481Z",
     "shell.execute_reply": "2025-05-04T23:29:20.436680Z",
     "shell.execute_reply.started": "2025-05-04T23:29:19.916606Z"
    },
    "id": "cJNSkSivZ0xS",
    "outputId": "dc189adf-8cb3-45c4-843f-cd72be9436f1",
    "trusted": true
   },
   "outputs": [],
   "source": [
    "# Just plot losses\n",
    "plot_training_curves(train_losses, val_losses)\n",
    "\n",
    "# Plot losses + dice scores\n",
    "plot_training_curves(train_losses, val_losses, train_dices, val_dices, score_name=\"Dice Score\")\n"
   ]
  },
  {
   "cell_type": "code",
   "execution_count": null,
   "metadata": {
    "execution": {
     "iopub.execute_input": "2025-05-04T23:32:34.656214Z",
     "iopub.status.busy": "2025-05-04T23:32:34.655913Z",
     "iopub.status.idle": "2025-05-04T23:32:34.692737Z",
     "shell.execute_reply": "2025-05-04T23:32:34.691949Z",
     "shell.execute_reply.started": "2025-05-04T23:32:34.656193Z"
    },
    "id": "2_oAUAHEZ4H6",
    "trusted": true
   },
   "outputs": [],
   "source": [
    "# Save\n",
    "torch.save(model.state_dict(), \"unet_brats2020.pth\")"
   ]
  },
  {
   "cell_type": "markdown",
   "metadata": {},
   "source": [
    "## EVALUATE THE MODEL"
   ]
  },
  {
   "cell_type": "code",
   "execution_count": null,
   "metadata": {
    "execution": {
     "iopub.execute_input": "2025-05-04T23:35:56.925470Z",
     "iopub.status.busy": "2025-05-04T23:35:56.925130Z",
     "iopub.status.idle": "2025-05-04T23:35:56.931294Z",
     "shell.execute_reply": "2025-05-04T23:35:56.930611Z",
     "shell.execute_reply.started": "2025-05-04T23:35:56.925440Z"
    },
    "trusted": true
   },
   "outputs": [],
   "source": [
    "def evaluate_model(model, dataloader, device, batches_to_evaluate=None):\n",
    "    model.eval()\n",
    "    criterion = nn.BCEWithLogitsLoss()\n",
    "\n",
    "    total_loss = 0\n",
    "    total_dice = 0\n",
    "    num_batches = 0\n",
    "\n",
    "    loop = tqdm(dataloader, desc=f\"[Test]\", leave=False)\n",
    "\n",
    "    with torch.no_grad():\n",
    "        for batch_idx, (inputs, targets) in enumerate(loop, start=1):\n",
    "            inputs, targets = inputs.to(device), targets.to(device)\n",
    "\n",
    "            outputs = model(inputs)\n",
    "            loss = criterion(outputs, targets)\n",
    "\n",
    "            total_loss += loss.item()\n",
    "            total_dice += dice_score(outputs, targets).item()\n",
    "\n",
    "            loop.set_postfix({\"Loss\": loss.item()})\n",
    "\n",
    "            num_batches += 1\n",
    "            if batches_to_evaluate is not None and batch_idx >= batches_to_evaluate:\n",
    "                break\n",
    "\n",
    "    avg_loss = total_loss / num_batches\n",
    "    avg_dice = total_dice / num_batches\n",
    "\n",
    "    print(f\"[TEST] Avg Loss: {avg_loss:.4f}, Avg Dice: {avg_dice:.4f}\")\n",
    "\n",
    "    return avg_loss, avg_dice\n"
   ]
  },
  {
   "cell_type": "code",
   "execution_count": null,
   "metadata": {
    "execution": {
     "iopub.execute_input": "2025-05-04T23:45:57.138112Z",
     "iopub.status.busy": "2025-05-04T23:45:57.137784Z",
     "iopub.status.idle": "2025-05-04T23:45:57.206683Z",
     "shell.execute_reply": "2025-05-04T23:45:57.206070Z",
     "shell.execute_reply.started": "2025-05-04T23:45:57.138090Z"
    },
    "trusted": true
   },
   "outputs": [],
   "source": [
    "device = 'cuda' if torch.cuda.is_available() else 'cpu'\n",
    "\n",
    "model = UNet().to(device)\n",
    "state_dict = torch.load(\"unet_brats2020.pth\", map_location=device)\n",
    "model.load_state_dict(state_dict)\n",
    "model.eval()\n"
   ]
  },
  {
   "cell_type": "code",
   "execution_count": null,
   "metadata": {
    "execution": {
     "iopub.execute_input": "2025-05-04T23:39:37.724452Z",
     "iopub.status.busy": "2025-05-04T23:39:37.724044Z",
     "iopub.status.idle": "2025-05-04T23:44:21.281150Z",
     "shell.execute_reply": "2025-05-04T23:44:21.280368Z",
     "shell.execute_reply.started": "2025-05-04T23:39:37.724428Z"
    },
    "trusted": true
   },
   "outputs": [],
   "source": [
    "test_loss, test_dice = evaluate_model(model, test_loader, device)\n"
   ]
  }
 ],
 "metadata": {
  "accelerator": "GPU",
  "colab": {
   "gpuType": "T4",
   "provenance": []
  },
  "kaggle": {
   "accelerator": "gpu",
   "dataSources": [
    {
     "datasetId": 723383,
     "sourceId": 1267593,
     "sourceType": "datasetVersion"
    }
   ],
   "dockerImageVersionId": 31011,
   "isGpuEnabled": true,
   "isInternetEnabled": true,
   "language": "python",
   "sourceType": "notebook"
  },
  "kernelspec": {
   "display_name": "Python 3",
   "language": "python",
   "name": "python3"
  },
  "language_info": {
   "codemirror_mode": {
    "name": "ipython",
    "version": 3
   },
   "file_extension": ".py",
   "mimetype": "text/x-python",
   "name": "python",
   "nbconvert_exporter": "python",
   "pygments_lexer": "ipython3",
   "version": "3.11.11"
  }
 },
 "nbformat": 4,
 "nbformat_minor": 4
}
