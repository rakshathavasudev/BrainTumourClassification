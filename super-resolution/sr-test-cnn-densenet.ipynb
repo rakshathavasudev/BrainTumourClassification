{
 "cells": [
  {
   "cell_type": "markdown",
   "metadata": {},
   "source": [
    "## TEST CNN"
   ]
  },
  {
   "cell_type": "code",
   "execution_count": null,
   "metadata": {
    "_cell_guid": "b1076dfc-b9ad-4769-8c92-a6c4dae69d19",
    "_uuid": "8f2839f25d086af736a60e9eeb907d3b93b6e0e5",
    "execution": {
     "iopub.execute_input": "2025-05-15T20:27:09.054916Z",
     "iopub.status.busy": "2025-05-15T20:27:09.054661Z",
     "iopub.status.idle": "2025-05-15T20:27:28.307131Z",
     "shell.execute_reply": "2025-05-15T20:27:28.306133Z",
     "shell.execute_reply.started": "2025-05-15T20:27:09.054894Z"
    },
    "trusted": true
   },
   "outputs": [],
   "source": [
    "from tensorflow.keras.models import load_model\n",
    "from tensorflow.keras.preprocessing.image import ImageDataGenerator\n",
    "import numpy as np\n",
    "from sklearn.metrics import accuracy_score, classification_report\n"
   ]
  },
  {
   "cell_type": "code",
   "execution_count": null,
   "metadata": {
    "execution": {
     "iopub.execute_input": "2025-05-05T22:39:41.072582Z",
     "iopub.status.busy": "2025-05-05T22:39:41.072079Z",
     "iopub.status.idle": "2025-05-05T22:39:41.077391Z",
     "shell.execute_reply": "2025-05-05T22:39:41.076254Z",
     "shell.execute_reply.started": "2025-05-05T22:39:41.072559Z"
    },
    "trusted": true
   },
   "outputs": [],
   "source": [
    "# Paths (adjust if needed)\n",
    "model_path = \"/kaggle/input/brain-tumor-cnn/brain_tumor_cnn.h5\"\n",
    "image_dir = \"/kaggle/input/sr-test-new/SR_Testing\"\n",
    "\n",
    "# Image size expected by the model\n",
    "img_size = 224\n"
   ]
  },
  {
   "cell_type": "code",
   "execution_count": null,
   "metadata": {
    "execution": {
     "iopub.execute_input": "2025-05-05T22:39:41.083757Z",
     "iopub.status.busy": "2025-05-05T22:39:41.083542Z",
     "iopub.status.idle": "2025-05-05T22:39:41.863089Z",
     "shell.execute_reply": "2025-05-05T22:39:41.862159Z",
     "shell.execute_reply.started": "2025-05-05T22:39:41.083739Z"
    },
    "trusted": true
   },
   "outputs": [],
   "source": [
    "# Prepare test dataset using ImageDataGenerator\n",
    "datagen = ImageDataGenerator(rescale=1./255)\n",
    "\n",
    "generator = datagen.flow_from_directory(\n",
    "    image_dir,\n",
    "    target_size=(img_size, img_size),\n",
    "    batch_size=32,\n",
    "    class_mode='categorical',\n",
    "    shuffle=False\n",
    ")\n"
   ]
  },
  {
   "cell_type": "code",
   "execution_count": null,
   "metadata": {
    "execution": {
     "iopub.execute_input": "2025-05-05T22:39:41.867122Z",
     "iopub.status.busy": "2025-05-05T22:39:41.866881Z",
     "iopub.status.idle": "2025-05-05T22:39:43.399218Z",
     "shell.execute_reply": "2025-05-05T22:39:43.398347Z",
     "shell.execute_reply.started": "2025-05-05T22:39:41.867101Z"
    },
    "trusted": true
   },
   "outputs": [],
   "source": [
    "# Load the pretrained CNN model\n",
    "model = load_model(model_path)\n",
    "model.summary()  # Optional to verify model architecture\n"
   ]
  },
  {
   "cell_type": "code",
   "execution_count": null,
   "metadata": {
    "execution": {
     "iopub.execute_input": "2025-05-05T22:39:43.400600Z",
     "iopub.status.busy": "2025-05-05T22:39:43.400257Z",
     "iopub.status.idle": "2025-05-05T22:40:07.672108Z",
     "shell.execute_reply": "2025-05-05T22:40:07.671062Z",
     "shell.execute_reply.started": "2025-05-05T22:39:43.400571Z"
    },
    "trusted": true
   },
   "outputs": [],
   "source": [
    "# Predict on the superresolved images\n",
    "preds = model.predict(generator)\n",
    "\n",
    "# Convert predictions to class labels\n",
    "pred_classes = np.argmax(preds, axis=1)\n",
    "true_labels = generator.classes\n"
   ]
  },
  {
   "cell_type": "code",
   "execution_count": null,
   "metadata": {
    "execution": {
     "iopub.execute_input": "2025-05-05T22:40:07.673628Z",
     "iopub.status.busy": "2025-05-05T22:40:07.673239Z",
     "iopub.status.idle": "2025-05-05T22:40:07.691677Z",
     "shell.execute_reply": "2025-05-05T22:40:07.690738Z",
     "shell.execute_reply.started": "2025-05-05T22:40:07.673592Z"
    },
    "trusted": true
   },
   "outputs": [],
   "source": [
    "# Calculate accuracy\n",
    "accuracy = accuracy_score(true_labels, pred_classes)\n",
    "print(\"Accuracy on Superresolved Images:\", accuracy)\n",
    "\n",
    "# Detailed classification report (optional but useful)\n",
    "class_labels = list(generator.class_indices.keys())\n",
    "print(\"\\nClassification Report:\")\n",
    "print(classification_report(true_labels, pred_classes, target_names=class_labels))\n"
   ]
  },
  {
   "cell_type": "code",
   "execution_count": null,
   "metadata": {
    "execution": {
     "iopub.execute_input": "2025-05-05T22:41:20.515449Z",
     "iopub.status.busy": "2025-05-05T22:41:20.514650Z",
     "iopub.status.idle": "2025-05-05T22:41:20.723999Z",
     "shell.execute_reply": "2025-05-05T22:41:20.723174Z",
     "shell.execute_reply.started": "2025-05-05T22:41:20.515417Z"
    },
    "trusted": true
   },
   "outputs": [],
   "source": [
    "import matplotlib.pyplot as plt\n",
    "from PIL import Image\n",
    "import os\n",
    "\n",
    "# Example: Load a sample image from glioma class\n",
    "sample_image_path = \"/kaggle/input/brain-mri-superresolution/SR_Testing/glioma\"\n",
    "sample_image_file = os.listdir(sample_image_path)[0]  # Take the first image\n",
    "\n",
    "# Load and display the image\n",
    "img = Image.open(os.path.join(sample_image_path, sample_image_file))\n",
    "\n",
    "# Show image\n",
    "plt.imshow(img)\n",
    "plt.axis('off')  # Hide axes\n",
    "plt.title(\"Sample Superresolved Image (Glioma)\")\n",
    "plt.show()\n"
   ]
  },
  {
   "cell_type": "markdown",
   "metadata": {},
   "source": [
    "## TEST DENSENET"
   ]
  },
  {
   "cell_type": "code",
   "execution_count": null,
   "metadata": {
    "execution": {
     "iopub.execute_input": "2025-05-05T22:41:23.762327Z",
     "iopub.status.busy": "2025-05-05T22:41:23.761999Z",
     "iopub.status.idle": "2025-05-05T22:41:23.767005Z",
     "shell.execute_reply": "2025-05-05T22:41:23.766026Z",
     "shell.execute_reply.started": "2025-05-05T22:41:23.762303Z"
    },
    "trusted": true
   },
   "outputs": [],
   "source": [
    "# Paths\n",
    "model_path = \"/kaggle/input/brain-tumor-densenet/densenet_brain_tumor.h5\"\n",
    "image_dir = \"/kaggle/input/brain-mri-superresolution/SR_Testing\"\n",
    "\n",
    "# Image size expected by DenseNet model\n",
    "img_size = 224  # Assuming it's also trained on 224x224 images\n"
   ]
  },
  {
   "cell_type": "code",
   "execution_count": null,
   "metadata": {
    "execution": {
     "iopub.execute_input": "2025-05-05T22:41:25.940386Z",
     "iopub.status.busy": "2025-05-05T22:41:25.940060Z",
     "iopub.status.idle": "2025-05-05T22:41:26.320493Z",
     "shell.execute_reply": "2025-05-05T22:41:26.319391Z",
     "shell.execute_reply.started": "2025-05-05T22:41:25.940363Z"
    },
    "trusted": true
   },
   "outputs": [],
   "source": [
    "# Prepare test dataset using ImageDataGenerator\n",
    "datagen = ImageDataGenerator(rescale=1./255)\n",
    "\n",
    "generator = datagen.flow_from_directory(\n",
    "    image_dir,\n",
    "    target_size=(img_size, img_size),\n",
    "    batch_size=32,\n",
    "    class_mode='categorical',\n",
    "    shuffle=False\n",
    ")\n"
   ]
  },
  {
   "cell_type": "code",
   "execution_count": null,
   "metadata": {
    "execution": {
     "execution_failed": "2025-05-05T23:08:00.676Z",
     "iopub.execute_input": "2025-05-05T22:42:50.537836Z",
     "iopub.status.busy": "2025-05-05T22:42:50.537056Z",
     "iopub.status.idle": "2025-05-05T22:42:53.877097Z"
    },
    "trusted": true
   },
   "outputs": [],
   "source": [
    "# Load the pretrained DenseNet model\n",
    "model = load_model(model_path)\n",
    "model.summary()  # Optional to verify model architecture\n"
   ]
  },
  {
   "cell_type": "code",
   "execution_count": null,
   "metadata": {
    "execution": {
     "iopub.execute_input": "2025-05-05T22:42:57.146091Z",
     "iopub.status.busy": "2025-05-05T22:42:57.145734Z",
     "iopub.status.idle": "2025-05-05T22:45:13.208809Z",
     "shell.execute_reply": "2025-05-05T22:45:13.207902Z",
     "shell.execute_reply.started": "2025-05-05T22:42:57.146065Z"
    },
    "trusted": true
   },
   "outputs": [],
   "source": [
    "# Predict on the superresolved images\n",
    "preds = model.predict(generator)\n",
    "\n",
    "# Convert predictions to class labels\n",
    "pred_classes = np.argmax(preds, axis=1)\n",
    "true_labels = generator.classes\n"
   ]
  },
  {
   "cell_type": "code",
   "execution_count": null,
   "metadata": {
    "execution": {
     "iopub.execute_input": "2025-05-05T22:45:15.861873Z",
     "iopub.status.busy": "2025-05-05T22:45:15.861510Z",
     "iopub.status.idle": "2025-05-05T22:45:15.877292Z",
     "shell.execute_reply": "2025-05-05T22:45:15.876273Z",
     "shell.execute_reply.started": "2025-05-05T22:45:15.861828Z"
    },
    "trusted": true
   },
   "outputs": [],
   "source": [
    "# Calculate accuracy\n",
    "accuracy = accuracy_score(true_labels, pred_classes)\n",
    "print(\"Accuracy on Superresolved Images (DenseNet):\", accuracy)\n",
    "\n",
    "# Detailed classification report (optional but useful)\n",
    "class_labels = list(generator.class_indices.keys())\n",
    "print(\"\\nClassification Report:\")\n",
    "print(classification_report(true_labels, pred_classes, target_names=class_labels))\n"
   ]
  },
  {
   "cell_type": "code",
   "execution_count": null,
   "metadata": {
    "trusted": true
   },
   "outputs": [],
   "source": []
  }
 ],
 "metadata": {
  "kaggle": {
   "accelerator": "none",
   "dataSources": [
    {
     "datasetId": 7338231,
     "sourceId": 11691506,
     "sourceType": "datasetVersion"
    },
    {
     "datasetId": 7338289,
     "sourceId": 11691583,
     "sourceType": "datasetVersion"
    },
    {
     "datasetId": 7338497,
     "sourceId": 11691947,
     "sourceType": "datasetVersion"
    },
    {
     "datasetId": 7430523,
     "sourceId": 11828170,
     "sourceType": "datasetVersion"
    }
   ],
   "dockerImageVersionId": 31012,
   "isGpuEnabled": false,
   "isInternetEnabled": true,
   "language": "python",
   "sourceType": "notebook"
  },
  "kernelspec": {
   "display_name": "Python 3",
   "language": "python",
   "name": "python3"
  },
  "language_info": {
   "codemirror_mode": {
    "name": "ipython",
    "version": 3
   },
   "file_extension": ".py",
   "mimetype": "text/x-python",
   "name": "python",
   "nbconvert_exporter": "python",
   "pygments_lexer": "ipython3",
   "version": "3.11.11"
  }
 },
 "nbformat": 4,
 "nbformat_minor": 4
}
