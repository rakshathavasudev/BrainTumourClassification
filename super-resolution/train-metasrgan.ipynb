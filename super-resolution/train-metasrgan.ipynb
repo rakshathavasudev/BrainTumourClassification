{
 "cells": [
  {
   "cell_type": "code",
   "execution_count": null,
   "metadata": {},
   "outputs": [],
   "source": [
    "%load_ext autoreload\n",
    "%autoreload 2\n",
    "from srgan_utils import *"
   ]
  },
  {
   "cell_type": "code",
   "execution_count": null,
   "metadata": {
    "_cell_guid": "b1076dfc-b9ad-4769-8c92-a6c4dae69d19",
    "_uuid": "8f2839f25d086af736a60e9eeb907d3b93b6e0e5",
    "execution": {
     "iopub.execute_input": "2025-05-16T02:45:25.458977Z",
     "iopub.status.busy": "2025-05-16T02:45:25.458208Z",
     "iopub.status.idle": "2025-05-16T02:45:25.463374Z",
     "shell.execute_reply": "2025-05-16T02:45:25.462682Z",
     "shell.execute_reply.started": "2025-05-16T02:45:25.458958Z"
    },
    "trusted": true
   },
   "outputs": [],
   "source": [
    "import os\n",
    "import math\n",
    "import numpy as np\n",
    "from PIL import Image\n",
    "from tqdm.notebook import tqdm\n",
    "import matplotlib.pyplot as plt\n",
    "\n",
    "import torch\n",
    "import torch.nn as nn\n",
    "import torch.optim as optim\n",
    "from torch.utils.data import Dataset, DataLoader\n",
    "from torchvision import transforms\n",
    "\n",
    "device = torch.device('cuda' if torch.cuda.is_available() else 'cpu')\n"
   ]
  },
  {
   "cell_type": "markdown",
   "metadata": {},
   "source": [
    "## TRAIN META-SRGAN"
   ]
  },
  {
   "cell_type": "code",
   "execution_count": null,
   "metadata": {
    "execution": {
     "iopub.execute_input": "2025-05-16T02:45:33.484895Z",
     "iopub.status.busy": "2025-05-16T02:45:33.484642Z",
     "iopub.status.idle": "2025-05-16T02:45:33.889264Z",
     "shell.execute_reply": "2025-05-16T02:45:33.888648Z",
     "shell.execute_reply.started": "2025-05-16T02:45:33.484870Z"
    },
    "trusted": true
   },
   "outputs": [],
   "source": [
    "checkpoint_path = 'srgan_checkpoint.pth'\n",
    "start_epoch = 0\n",
    "history = {\n",
    "    'g_loss_epoch': [],\n",
    "    'd_loss_epoch': [],\n",
    "    'g_loss_iter': [],\n",
    "    'd_loss_iter': []\n",
    "}\n",
    "\n",
    "if os.path.exists(checkpoint_path):\n",
    "    ckpt = torch.load(checkpoint_path)\n",
    "    netG.load_state_dict(ckpt['netG'])\n",
    "    netD.load_state_dict(ckpt['netD'])\n",
    "    optimizerG.load_state_dict(ckpt['optimizerG'])\n",
    "    optimizerD.load_state_dict(ckpt['optimizerD'])\n",
    "    schedulerG.load_state_dict(ckpt['schedulerG'])\n",
    "    schedulerD.load_state_dict(ckpt['schedulerD'])\n",
    "    history = ckpt['history']\n",
    "    start_epoch = ckpt['epoch'] + 1\n",
    "    print(f\"Resuming from epoch {start_epoch}\")\n"
   ]
  },
  {
   "cell_type": "code",
   "execution_count": null,
   "metadata": {
    "execution": {
     "iopub.execute_input": "2025-05-16T02:45:33.890284Z",
     "iopub.status.busy": "2025-05-16T02:45:33.890095Z",
     "iopub.status.idle": "2025-05-16T02:45:33.895293Z",
     "shell.execute_reply": "2025-05-16T02:45:33.894565Z",
     "shell.execute_reply.started": "2025-05-16T02:45:33.890268Z"
    },
    "trusted": true
   },
   "outputs": [],
   "source": [
    "num_epochs = 5\n",
    "for epoch in range(start_epoch, num_epochs):\n",
    "    avg_g, avg_d, iter_g, iter_d = train_srgan(epoch)\n",
    "\n",
    "    # store losses\n",
    "    history['g_loss_epoch'].append(avg_g)\n",
    "    history['d_loss_epoch'].append(avg_d)\n",
    "    history['g_loss_iter'].append(iter_g)\n",
    "    history['d_loss_iter'].append(iter_d)\n",
    "\n",
    "    # step schedulers\n",
    "    schedulerG.step()\n",
    "    schedulerD.step()\n",
    "\n",
    "    # save checkpoint\n",
    "    torch.save({\n",
    "        'epoch':       epoch,\n",
    "        'netG':        netG.state_dict(),\n",
    "        'netD':        netD.state_dict(),\n",
    "        'optimizerG':  optimizerG.state_dict(),\n",
    "        'optimizerD':  optimizerD.state_dict(),\n",
    "        'schedulerG':  schedulerG.state_dict(),\n",
    "        'schedulerD':  schedulerD.state_dict(),\n",
    "        'history':     history\n",
    "    }, checkpoint_path)\n"
   ]
  },
  {
   "cell_type": "code",
   "execution_count": null,
   "metadata": {
    "execution": {
     "iopub.execute_input": "2025-05-16T02:45:33.896452Z",
     "iopub.status.busy": "2025-05-16T02:45:33.896147Z",
     "iopub.status.idle": "2025-05-16T02:45:33.922429Z",
     "shell.execute_reply": "2025-05-16T02:45:33.921606Z",
     "shell.execute_reply.started": "2025-05-16T02:45:33.896430Z"
    },
    "trusted": true
   },
   "outputs": [],
   "source": [
    "# After training or after loading the final checkpoint:\n",
    "torch.save(netG.state_dict(), 'generator.pth')"
   ]
  },
  {
   "cell_type": "code",
   "execution_count": null,
   "metadata": {
    "execution": {
     "iopub.execute_input": "2025-05-16T02:47:06.883273Z",
     "iopub.status.busy": "2025-05-16T02:47:06.882547Z",
     "iopub.status.idle": "2025-05-16T02:47:08.080854Z",
     "shell.execute_reply": "2025-05-16T02:47:08.079963Z",
     "shell.execute_reply.started": "2025-05-16T02:47:06.883248Z"
    },
    "trusted": true
   },
   "outputs": [],
   "source": [
    "ckpt = torch.load('/kaggle//input/metasrgan-1/srgan_checkpoint_1.pth')"
   ]
  },
  {
   "cell_type": "code",
   "execution_count": null,
   "metadata": {
    "execution": {
     "iopub.execute_input": "2025-05-16T02:51:44.292171Z",
     "iopub.status.busy": "2025-05-16T02:51:44.291889Z",
     "iopub.status.idle": "2025-05-16T02:51:44.295653Z",
     "shell.execute_reply": "2025-05-16T02:51:44.295052Z",
     "shell.execute_reply.started": "2025-05-16T02:51:44.292151Z"
    },
    "trusted": true
   },
   "outputs": [],
   "source": [
    "history = ckpt['history']\n"
   ]
  },
  {
   "cell_type": "code",
   "execution_count": null,
   "metadata": {
    "execution": {
     "iopub.execute_input": "2025-05-16T02:54:15.915130Z",
     "iopub.status.busy": "2025-05-16T02:54:15.914396Z",
     "iopub.status.idle": "2025-05-16T02:54:16.071972Z",
     "shell.execute_reply": "2025-05-16T02:54:16.070913Z",
     "shell.execute_reply.started": "2025-05-16T02:54:15.915107Z"
    },
    "trusted": true
   },
   "outputs": [],
   "source": [
    "import matplotlib.pyplot as plt\n",
    "\n",
    "try:\n",
    "    history\n",
    "except NameError:\n",
    "    import torch\n",
    "    ckpt = torch.load('srgan_checkpoint.pth', map_location='cpu')\n",
    "    history = ckpt['history']\n",
    "\n",
    "# Flatten iteration losses across all epochs\n",
    "gen_iter = [loss for epoch_losses in history['g_loss_iter'] for loss in epoch_losses]\n",
    "disc_iter = [loss for epoch_losses in history['d_loss_iter'] for loss in epoch_losses]\n",
    "\n",
    "iterations = range(1, len(gen_iter) + 1)\n",
    "\n",
    "plt.figure()\n",
    "plt.plot(iterations, gen_iter[10:], label='Generator Loss')\n",
    "plt.plot(iterations, disc_iter[10:], label='Discriminator Loss')\n",
    "plt.xlabel('Iteration')\n",
    "plt.ylabel('Loss')\n",
    "plt.title('Generator & Discriminator Loss per Iteration')\n",
    "plt.legend()\n",
    "plt.tight_layout()\n",
    "plt.show()\n"
   ]
  },
  {
   "cell_type": "code",
   "execution_count": null,
   "metadata": {
    "execution": {
     "iopub.execute_input": "2025-05-16T02:52:50.938057Z",
     "iopub.status.busy": "2025-05-16T02:52:50.937438Z",
     "iopub.status.idle": "2025-05-16T02:52:51.591020Z",
     "shell.execute_reply": "2025-05-16T02:52:51.590313Z",
     "shell.execute_reply.started": "2025-05-16T02:52:50.938032Z"
    },
    "trusted": true
   },
   "outputs": [],
   "source": [
    "ckpt = torch.load('srgan_checkpoint.pth', map_location='cpu')\n",
    "history = ckpt['history']\n",
    "\n",
    "# Flatten iteration losses across all epochs\n",
    "gen_iter = [loss for epoch_losses in history['g_loss_iter'] for loss in epoch_losses]\n",
    "disc_iter = [loss for epoch_losses in history['d_loss_iter'] for loss in epoch_losses]\n",
    "\n",
    "iterations = range(1, len(gen_iter) + 1)\n",
    "\n",
    "plt.figure()\n",
    "plt.plot(iterations, gen_iter, label='Generator Loss')\n",
    "plt.plot(iterations, disc_iter, label='Discriminator Loss')\n",
    "plt.xlabel('Iteration')\n",
    "plt.ylabel('Loss')\n",
    "plt.title('Generator & Discriminator Loss per Iteration')\n",
    "plt.legend()\n",
    "plt.tight_layout()\n",
    "plt.show()"
   ]
  },
  {
   "cell_type": "code",
   "execution_count": null,
   "metadata": {
    "trusted": true
   },
   "outputs": [],
   "source": []
  }
 ],
 "metadata": {
  "kaggle": {
   "accelerator": "gpu",
   "dataSources": [
    {
     "datasetId": 1608934,
     "sourceId": 2645886,
     "sourceType": "datasetVersion"
    },
    {
     "datasetId": 7432057,
     "sourceId": 11830325,
     "sourceType": "datasetVersion"
    }
   ],
   "dockerImageVersionId": 31040,
   "isGpuEnabled": true,
   "isInternetEnabled": true,
   "language": "python",
   "sourceType": "notebook"
  },
  "kernelspec": {
   "display_name": "Python 3",
   "language": "python",
   "name": "python3"
  },
  "language_info": {
   "codemirror_mode": {
    "name": "ipython",
    "version": 3
   },
   "file_extension": ".py",
   "mimetype": "text/x-python",
   "name": "python",
   "nbconvert_exporter": "python",
   "pygments_lexer": "ipython3",
   "version": "3.11.11"
  }
 },
 "nbformat": 4,
 "nbformat_minor": 4
}
